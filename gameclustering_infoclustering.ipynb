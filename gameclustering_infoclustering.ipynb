{
 "cells": [
  {
   "cell_type": "code",
   "execution_count": 1,
   "metadata": {
    "ExecuteTime": {
     "end_time": "2018-10-25T16:16:04.407702Z",
     "start_time": "2018-10-25T16:16:04.033343Z"
    }
   },
   "outputs": [
    {
     "name": "stderr",
     "output_type": "stream",
     "text": [
      "/home/handason/anaconda3/lib/python3.5/importlib/_bootstrap.py:222: RuntimeWarning: to-Python converter for IBFS::IBFSStats already registered; second conversion method ignored.\n",
      "  return f(*args, **kwds)\n",
      "/home/handason/anaconda3/lib/python3.5/importlib/_bootstrap.py:222: RuntimeWarning: to-Python converter for IBFS::IBFSGraph already registered; second conversion method ignored.\n",
      "  return f(*args, **kwds)\n"
     ]
    }
   ],
   "source": [
    "import game_clustering\n",
    "import infoclustering\n",
    "import networkx as nx\n",
    "import numpy as np\n",
    "import matplotlib.pyplot as plt\n",
    "%matplotlib inline"
   ]
  },
  {
   "cell_type": "markdown",
   "metadata": {},
   "source": [
    "# Helper function for printing out the solution"
   ]
  },
  {
   "cell_type": "code",
   "execution_count": 2,
   "metadata": {
    "ExecuteTime": {
     "end_time": "2018-10-25T16:16:04.413064Z",
     "start_time": "2018-10-25T16:16:04.409312Z"
    },
    "collapsed": true
   },
   "outputs": [],
   "source": [
    "def print_game_solution(game_solution_dict):\n",
    "    # solution_dict is a dictionary, keys are the tensile strength, values are the corresponding cluster\n",
    "    for alpha, cluster in sorted(game_solution_dict.items()):\n",
    "        print('alpha: ', alpha)\n",
    "        print('cluster: ', [set(community) for community in cluster])\n",
    "        print()"
   ]
  },
  {
   "cell_type": "code",
   "execution_count": 3,
   "metadata": {
    "ExecuteTime": {
     "end_time": "2018-10-25T16:16:04.601286Z",
     "start_time": "2018-10-25T16:16:04.591389Z"
    },
    "collapsed": true
   },
   "outputs": [],
   "source": [
    "def print_info_solution(info_solution_dict):\n",
    "    for i, ((gamma_1, gamma_2), cluster) in enumerate(sorted(info_solution_dict.items())):\n",
    "        if i == 0:\n",
    "            print('for gamma in (', gamma_1, ', ', gamma_2, ')')\n",
    "        else:\n",
    "            print('for gamma in [', gamma_1, ', ', gamma_2, ')')\n",
    "        print([set(community) for community in cluster])\n",
    "        print()"
   ]
  },
  {
   "cell_type": "markdown",
   "metadata": {},
   "source": [
    "# a triangle and a line"
   ]
  },
  {
   "cell_type": "code",
   "execution_count": 4,
   "metadata": {
    "ExecuteTime": {
     "end_time": "2018-10-25T16:16:04.951238Z",
     "start_time": "2018-10-25T16:16:04.948079Z"
    },
    "collapsed": true
   },
   "outputs": [],
   "source": [
    "G = nx.DiGraph()\n",
    "G.add_edges_from([(0, 1, {'weight': 1}), \n",
    "                   (1, 2, {'weight': 1}), \n",
    "                   (2, 0, {'weight': 1}), \n",
    "                   (3, 4, {'weight': 1})])"
   ]
  },
  {
   "cell_type": "code",
   "execution_count": 5,
   "metadata": {
    "ExecuteTime": {
     "end_time": "2018-10-25T16:16:05.182043Z",
     "start_time": "2018-10-25T16:16:05.179596Z"
    }
   },
   "outputs": [],
   "source": [
    "gc = game_clustering.GameClustering(G=G, beta=1, weight='weight')"
   ]
  },
  {
   "cell_type": "code",
   "execution_count": 6,
   "metadata": {
    "ExecuteTime": {
     "end_time": "2018-10-25T16:16:05.296461Z",
     "start_time": "2018-10-25T16:16:05.287191Z"
    }
   },
   "outputs": [
    {
     "name": "stderr",
     "output_type": "stream",
     "text": [
      "[Parallel(n_jobs=1)]: Done   5 out of   5 | elapsed:    0.0s finished\n",
      "[Parallel(n_jobs=1)]: Done   2 out of   2 | elapsed:    0.0s finished\n"
     ]
    }
   ],
   "source": [
    "gc.fit()"
   ]
  },
  {
   "cell_type": "code",
   "execution_count": 7,
   "metadata": {
    "ExecuteTime": {
     "end_time": "2018-10-25T16:16:05.477274Z",
     "start_time": "2018-10-25T16:16:05.471888Z"
    }
   },
   "outputs": [
    {
     "data": {
      "text/plain": [
       "{0.0: {frozenset({0, 1, 2, 3, 4})},\n",
       " 0.5: {frozenset({3, 4}), frozenset({0, 1, 2})},\n",
       " 1.0: {frozenset({4}), frozenset({0, 1, 2}), frozenset({3})},\n",
       " 1.5: {frozenset({4}),\n",
       "  frozenset({2}),\n",
       "  frozenset({3}),\n",
       "  frozenset({0}),\n",
       "  frozenset({1})}}"
      ]
     },
     "execution_count": 7,
     "metadata": {},
     "output_type": "execute_result"
    }
   ],
   "source": [
    "gc.solutions"
   ]
  },
  {
   "cell_type": "code",
   "execution_count": 8,
   "metadata": {
    "ExecuteTime": {
     "end_time": "2018-10-25T16:16:05.650241Z",
     "start_time": "2018-10-25T16:16:05.644113Z"
    }
   },
   "outputs": [
    {
     "name": "stdout",
     "output_type": "stream",
     "text": [
      "alpha:  0.0\n",
      "cluster:  [{0, 1, 2, 3, 4}]\n",
      "\n",
      "alpha:  0.5\n",
      "cluster:  [{3, 4}, {0, 1, 2}]\n",
      "\n",
      "alpha:  1.0\n",
      "cluster:  [{4}, {0, 1, 2}, {3}]\n",
      "\n",
      "alpha:  1.5\n",
      "cluster:  [{4}, {2}, {3}, {0}, {1}]\n",
      "\n"
     ]
    }
   ],
   "source": [
    "print_game_solution(gc.solutions)"
   ]
  },
  {
   "cell_type": "code",
   "execution_count": 9,
   "metadata": {
    "ExecuteTime": {
     "end_time": "2018-10-25T16:16:05.826935Z",
     "start_time": "2018-10-25T16:16:05.815465Z"
    }
   },
   "outputs": [
    {
     "name": "stdout",
     "output_type": "stream",
     "text": [
      "for gamma in ( -inf ,  -0.0 )\n",
      "[{0, 1, 2, 3, 4}]\n",
      "\n",
      "for gamma in [ -0.0 ,  1.0 )\n",
      "[{3, 4}, {0, 1, 2}]\n",
      "\n",
      "for gamma in [ 1.0 ,  1.5 )\n",
      "[{4}, {0, 1, 2}, {3}]\n",
      "\n",
      "for gamma in [ 1.5 ,  inf )\n",
      "[{4}, {2}, {3}, {0}, {1}]\n",
      "\n"
     ]
    }
   ],
   "source": [
    "# for info-clustering\n",
    "G = G.to_undirected()\n",
    "IC = infoclustering.InfoClustering(G=G)\n",
    "IC.fit()\n",
    "print_info_solution(IC.solutions)"
   ]
  },
  {
   "cell_type": "markdown",
   "metadata": {},
   "source": [
    "# Nips figure 1b"
   ]
  },
  {
   "cell_type": "code",
   "execution_count": 10,
   "metadata": {
    "ExecuteTime": {
     "end_time": "2018-10-25T16:16:06.178510Z",
     "start_time": "2018-10-25T16:16:06.173257Z"
    },
    "collapsed": true
   },
   "outputs": [],
   "source": [
    "G = nx.DiGraph()\n",
    "G.add_edges_from([(1, 0, {'weight': 2}), \n",
    "                   (1, 2, {'weight': 1}), \n",
    "                   (2, 1, {'weight': 1})])"
   ]
  },
  {
   "cell_type": "code",
   "execution_count": 11,
   "metadata": {
    "ExecuteTime": {
     "end_time": "2018-10-25T16:16:06.347834Z",
     "start_time": "2018-10-25T16:16:06.343859Z"
    }
   },
   "outputs": [
    {
     "data": {
      "text/plain": [
       "OutEdgeDataView([(1, 0, {'weight': 2}), (1, 2, {'weight': 1}), (2, 1, {'weight': 1})])"
      ]
     },
     "execution_count": 11,
     "metadata": {},
     "output_type": "execute_result"
    }
   ],
   "source": [
    "G.edges(data=True)"
   ]
  },
  {
   "cell_type": "code",
   "execution_count": 12,
   "metadata": {
    "ExecuteTime": {
     "end_time": "2018-10-25T16:16:06.554622Z",
     "start_time": "2018-10-25T16:16:06.544224Z"
    }
   },
   "outputs": [
    {
     "name": "stdout",
     "output_type": "stream",
     "text": [
      "alpha:  0.0\n",
      "cluster:  [{0, 1, 2}]\n",
      "\n",
      "alpha:  1.0\n",
      "cluster:  [{1, 2}, {0}]\n",
      "\n",
      "alpha:  1.5\n",
      "cluster:  [{2}, {0}, {1}]\n",
      "\n"
     ]
    },
    {
     "name": "stderr",
     "output_type": "stream",
     "text": [
      "[Parallel(n_jobs=1)]: Done   3 out of   3 | elapsed:    0.0s finished\n"
     ]
    }
   ],
   "source": [
    "gc = game_clustering.GameClustering(G=G, beta=0.5, weight='weight')\n",
    "gc.fit()\n",
    "print_game_solution(gc.solutions)"
   ]
  },
  {
   "cell_type": "code",
   "execution_count": 13,
   "metadata": {
    "ExecuteTime": {
     "end_time": "2018-10-25T16:16:06.742939Z",
     "start_time": "2018-10-25T16:16:06.736302Z"
    }
   },
   "outputs": [
    {
     "name": "stdout",
     "output_type": "stream",
     "text": [
      "for gamma in ( -inf ,  1.5 )\n",
      "[{0, 1, 2}]\n",
      "\n",
      "for gamma in [ 1.5 ,  inf )\n",
      "[{2}, {0}, {1}]\n",
      "\n"
     ]
    }
   ],
   "source": [
    "# for info-clustering\n",
    "G = G.to_undirected()\n",
    "IC = infoclustering.InfoClustering(G=G)\n",
    "IC.fit()\n",
    "print_info_solution(IC.solutions)"
   ]
  },
  {
   "cell_type": "markdown",
   "metadata": {},
   "source": [
    "# Ring Of Cliques"
   ]
  },
  {
   "cell_type": "code",
   "execution_count": 14,
   "metadata": {
    "ExecuteTime": {
     "end_time": "2018-10-25T16:16:07.110049Z",
     "start_time": "2018-10-25T16:16:07.105760Z"
    },
    "collapsed": true
   },
   "outputs": [],
   "source": [
    "G = nx.ring_of_cliques(num_cliques=8, clique_size=5)"
   ]
  },
  {
   "cell_type": "code",
   "execution_count": 15,
   "metadata": {
    "ExecuteTime": {
     "end_time": "2018-10-25T16:16:07.472571Z",
     "start_time": "2018-10-25T16:16:07.290269Z"
    }
   },
   "outputs": [
    {
     "name": "stderr",
     "output_type": "stream",
     "text": [
      "[Parallel(n_jobs=1)]: Done  40 out of  40 | elapsed:    0.2s finished\n",
      "[Parallel(n_jobs=1)]: Done  16 out of  16 | elapsed:    0.0s finished\n"
     ]
    }
   ],
   "source": [
    "gc = game_clustering.GameClustering(G=G, beta=0.7)\n",
    "gc.fit()"
   ]
  },
  {
   "cell_type": "code",
   "execution_count": 16,
   "metadata": {
    "ExecuteTime": {
     "end_time": "2018-10-25T16:16:07.478022Z",
     "start_time": "2018-10-25T16:16:07.474329Z"
    }
   },
   "outputs": [
    {
     "name": "stdout",
     "output_type": "stream",
     "text": [
      "alpha:  0.0\n",
      "cluster:  [{0, 1, 2, 3, 4, 5, 6, 7, 8, 9, 10, 11, 12, 13, 14, 15, 16, 17, 18, 19, 20, 21, 22, 23, 24, 25, 26, 27, 28, 29, 30, 31, 32, 33, 34, 35, 36, 37, 38, 39}]\n",
      "\n",
      "alpha:  3.13714286\n",
      "cluster:  [{16, 17, 18, 19, 15}, {8, 9, 5, 6, 7}, {35, 36, 37, 38, 39}, {25, 26, 27, 28, 29}, {10, 11, 12, 13, 14}, {0, 1, 2, 3, 4}, {32, 33, 34, 30, 31}, {24, 20, 21, 22, 23}]\n",
      "\n",
      "alpha:  3.65\n",
      "cluster:  [{38}, {25}, {21}, {26}, {19}, {16}, {33}, {22}, {9}, {7}, {5}, {10}, {3}, {0}, {28}, {29}, {2}, {30}, {39}, {20}, {37}, {35}, {32}, {15}, {13}, {11}, {8}, {14}, {23}, {4}, {34}, {17}, {6}, {18}, {36}, {1}, {31}, {12}, {27}, {24}]\n",
      "\n"
     ]
    }
   ],
   "source": [
    "print_game_solution(gc.solutions)"
   ]
  },
  {
   "cell_type": "code",
   "execution_count": 17,
   "metadata": {
    "ExecuteTime": {
     "end_time": "2018-10-25T16:16:07.721918Z",
     "start_time": "2018-10-25T16:16:07.648591Z"
    }
   },
   "outputs": [
    {
     "name": "stdout",
     "output_type": "stream",
     "text": [
      "for gamma in ( -inf ,  1.1428571428571428 )\n",
      "[{0, 1, 2, 3, 4, 5, 6, 7, 8, 9, 10, 11, 12, 13, 14, 15, 16, 17, 18, 19, 20, 21, 22, 23, 24, 25, 26, 27, 28, 29, 30, 31, 32, 33, 34, 35, 36, 37, 38, 39}]\n",
      "\n",
      "for gamma in [ 1.1428571428571428 ,  2.5 )\n",
      "[{16, 17, 18, 19, 15}, {8, 9, 5, 6, 7}, {10, 11, 12, 13, 14}, {0, 1, 2, 3, 4}, {24, 20, 21, 22, 23}, {35, 36, 37, 38, 39}, {25, 26, 27, 28, 29}, {32, 33, 34, 30, 31}]\n",
      "\n",
      "for gamma in [ 2.5 ,  inf )\n",
      "[{38}, {25}, {21}, {26}, {19}, {16}, {33}, {22}, {9}, {7}, {5}, {10}, {3}, {0}, {28}, {29}, {2}, {30}, {39}, {20}, {37}, {35}, {32}, {15}, {13}, {11}, {8}, {14}, {23}, {4}, {34}, {17}, {6}, {18}, {36}, {1}, {31}, {12}, {27}, {24}]\n",
      "\n"
     ]
    }
   ],
   "source": [
    "# for info-clustering\n",
    "G = G.to_undirected()\n",
    "IC = infoclustering.InfoClustering(G=G)\n",
    "IC.fit()\n",
    "print_info_solution(IC.solutions)"
   ]
  },
  {
   "cell_type": "markdown",
   "metadata": {},
   "source": [
    "# web spider graph"
   ]
  },
  {
   "cell_type": "code",
   "execution_count": 18,
   "metadata": {
    "ExecuteTime": {
     "end_time": "2018-10-25T16:16:08.244923Z",
     "start_time": "2018-10-25T16:16:08.011970Z"
    }
   },
   "outputs": [
    {
     "data": {
      "image/png": "[encoded data removed]",
      "text/plain": [
       "<Figure size 432x288 with 1 Axes>"
      ]
     },
     "metadata": {},
     "output_type": "display_data"
    },
    {
     "data": {
      "text/plain": [
       "<Figure size 432x288 with 0 Axes>"
      ]
     },
     "metadata": {},
     "output_type": "display_data"
    }
   ],
   "source": [
    "\n",
    "G = nx.grid_graph([7, 7])\n",
    "T = G.copy()\n",
    "for i, j in G.edges:\n",
    "    if (i[1]==0 and j[1]==0 and T.has_edge(i, j)) or \\\n",
    "        (i[1]==1 and j[1]==1 and T.has_edge(i, j)) or \\\n",
    "        (i[1]==5 and j[1]==5 and T.has_edge(i, j)) or \\\n",
    "        (i[1]==6 and j[1]==6 and T.has_edge(i, j)) or \\\n",
    "        (i[0]==0 and j[0]==0 and T.has_edge(i, j)) or \\\n",
    "        (i[0]==1 and j[0]==1 and T.has_edge(i, j)) or \\\n",
    "        (i[0]==5 and j[0]==5 and T.has_edge(i, j)) or \\\n",
    "        (i[0]==6 and j[0]==6 and T.has_edge(i, j)):\n",
    "        # remove first column\n",
    "        T.remove_edge(i, j)\n",
    "T.remove_node((0,0))\n",
    "T.remove_node((0,1))\n",
    "T.remove_node((1,0))\n",
    "T.remove_node((1,1))\n",
    "\n",
    "T.remove_node((0,5))\n",
    "T.remove_node((0,6))\n",
    "T.remove_node((1,5))\n",
    "T.remove_node((1,6))\n",
    "# last column top and bottom\n",
    "T.remove_node((5,0))\n",
    "T.remove_node((6,0))\n",
    "T.remove_node((5,1))\n",
    "T.remove_node((6,1))\n",
    "\n",
    "T.remove_node((5,5))\n",
    "T.remove_node((6,6))\n",
    "T.remove_node((5,6))\n",
    "T.remove_node((6,5))\n",
    "T.number_of_edges()\n",
    "\n",
    "# add weight\n",
    "nx.set_edge_attributes(T, 1, 'weight')\n",
    "web_center_row_column = [2,3,4]\n",
    "for i, j in T.edges:\n",
    "    if (i[0] in web_center_row_column) \\\n",
    "    and (i[1] in web_center_row_column) \\\n",
    "    and (j[0] in web_center_row_column) \\\n",
    "    and (j[1] in web_center_row_column):\n",
    "        T[i][j]['weight'] = 1\n",
    "# relabel the nodes\n",
    "k = 0\n",
    "pos = {}\n",
    "for node in sorted([i for i in T], key=lambda element: (element[0], -element[1]))[::-1]:\n",
    "    pos[k] = ([node[1], node[0]])\n",
    "    T = nx.relabel_nodes(T, {node: k})\n",
    "    k += 1\n",
    "G=T.copy()\n",
    "nx.draw_networkx_labels(G,pos=pos,labels={i:i for i in (G)},font_size=13)\n",
    "nx.draw(G,pos=pos, node_color='w')\n",
    "plt.show()\n",
    "plt.clf()"
   ]
  },
  {
   "cell_type": "code",
   "execution_count": 19,
   "metadata": {
    "ExecuteTime": {
     "end_time": "2018-10-25T16:16:08.421907Z",
     "start_time": "2018-10-25T16:16:08.246793Z"
    }
   },
   "outputs": [
    {
     "name": "stderr",
     "output_type": "stream",
     "text": [
      "[Parallel(n_jobs=1)]: Done  33 out of  33 | elapsed:    0.1s finished\n",
      "[Parallel(n_jobs=1)]: Done  24 out of  24 | elapsed:    0.0s finished\n",
      "[Parallel(n_jobs=1)]: Done  12 out of  12 | elapsed:    0.0s finished\n",
      "[Parallel(n_jobs=1)]: Done   9 out of   9 | elapsed:    0.0s finished\n"
     ]
    }
   ],
   "source": [
    "gc = game_clustering.GameClustering(G=G, beta=0.8)\n",
    "gc.fit()"
   ]
  },
  {
   "cell_type": "code",
   "execution_count": 20,
   "metadata": {
    "ExecuteTime": {
     "end_time": "2018-10-25T16:16:08.426640Z",
     "start_time": "2018-10-25T16:16:08.423458Z"
    }
   },
   "outputs": [
    {
     "name": "stdout",
     "output_type": "stream",
     "text": [
      "alpha:  0.0\n",
      "cluster:  [{0, 1, 2, 3, 4, 5, 6, 7, 8, 9, 10, 11, 12, 13, 14, 15, 16, 17, 18, 19, 20, 21, 22, 23, 24, 25, 26, 27, 28, 29, 30, 31, 32}]\n",
      "\n",
      "alpha:  1.7\n",
      "cluster:  [{30}, {8, 9, 10, 15, 16, 17, 22, 23, 24}, {20}, {32}, {13}, {11}, {25}, {14}, {4}, {21}, {26}, {19}, {7}, {5}, {3}, {0}, {6}, {28}, {18}, {1}, {31}, {12}, {29}, {2}, {27}]\n",
      "\n",
      "alpha:  2.2\n",
      "cluster:  [{25}, {21}, {26}, {19}, {16}, {22}, {9}, {7}, {5}, {10}, {3}, {0}, {28}, {29}, {2}, {30}, {20}, {32}, {15}, {13}, {11}, {8}, {14}, {23}, {4}, {17}, {6}, {18}, {1}, {31}, {12}, {27}, {24}]\n",
      "\n"
     ]
    }
   ],
   "source": [
    "print_game_solution(gc.solutions)"
   ]
  },
  {
   "cell_type": "code",
   "execution_count": 21,
   "metadata": {
    "ExecuteTime": {
     "end_time": "2018-10-25T16:16:08.591338Z",
     "start_time": "2018-10-25T16:16:08.550446Z"
    }
   },
   "outputs": [
    {
     "name": "stdout",
     "output_type": "stream",
     "text": [
      "for gamma in ( -inf ,  1.0 )\n",
      "[{0, 1, 2, 3, 4, 5, 6, 7, 8, 9, 10, 11, 12, 13, 14, 15, 16, 17, 18, 19, 20, 21, 22, 23, 24, 25, 26, 27, 28, 29, 30, 31, 32}]\n",
      "\n",
      "for gamma in [ 1.0 ,  1.5 )\n",
      "[{30}, {20}, {8, 9, 10, 15, 16, 17, 22, 23, 24}, {32}, {13}, {11}, {25}, {14}, {4}, {21}, {26}, {19}, {7}, {5}, {3}, {0}, {6}, {28}, {18}, {1}, {31}, {12}, {29}, {2}, {27}]\n",
      "\n",
      "for gamma in [ 1.5 ,  inf )\n",
      "[{25}, {21}, {26}, {19}, {16}, {22}, {9}, {7}, {5}, {10}, {3}, {0}, {28}, {29}, {2}, {30}, {20}, {32}, {15}, {13}, {11}, {8}, {14}, {23}, {4}, {17}, {6}, {18}, {1}, {31}, {12}, {27}, {24}]\n",
      "\n"
     ]
    }
   ],
   "source": [
    "# for info-clustering\n",
    "IC = infoclustering.InfoClustering(G=G)\n",
    "IC.fit()\n",
    "print_info_solution(IC.solutions)"
   ]
  },
  {
   "cell_type": "markdown",
   "metadata": {},
   "source": [
    "# Web Spider Graph with 2 web center"
   ]
  },
  {
   "cell_type": "code",
   "execution_count": 22,
   "metadata": {
    "ExecuteTime": {
     "end_time": "2018-10-25T16:16:09.086044Z",
     "start_time": "2018-10-25T16:16:08.937301Z"
    }
   },
   "outputs": [
    {
     "data": {
      "image/png": "[encoded data removed]",
      "text/plain": [
       "<Figure size 432x288 with 1 Axes>"
      ]
     },
     "metadata": {},
     "output_type": "display_data"
    }
   ],
   "source": [
    "G = nx.grid_graph([10, 5])\n",
    "T = G.copy()\n",
    "for i, j in G.edges:\n",
    "    if (i[1]==0 and j[1]==0) or\\\n",
    "    (i[1]==9 and j[1]==9) or\\\n",
    "    (i[1]==4 and j[1]==4) or\\\n",
    "    (i[1]==5 and j[1]==5) or\\\n",
    "    (i[0]==0 and j[0]==0) or\\\n",
    "    (i[0]==4 and j[0]==4):\n",
    "        # remove first column\n",
    "        # remove last column\n",
    "        # remove middle column\n",
    "        # remove first row\n",
    "        # remove last row\n",
    "        T.remove_edge(i, j)\n",
    "# first column top and bottom two node\n",
    "T.remove_node((0,0))\n",
    "T.remove_node((4,0))\n",
    "# middle column top and bottom two node\n",
    "T.remove_node((0,4))\n",
    "T.remove_node((4,4))\n",
    "T.remove_node((0,5))\n",
    "T.remove_node((4,5))\n",
    "# last column top and bottom two node\n",
    "T.remove_node((0,9))\n",
    "T.remove_node((4,9))\n",
    "T.number_of_edges()\n",
    "\n",
    "k = 0\n",
    "pos = {}\n",
    "for node in sorted([i for i in T], key=lambda element: (element[0], -element[1]))[::-1]:\n",
    "    pos[k] = ([node[1], node[0]])\n",
    "    T = nx.relabel_nodes(T, {node: k})\n",
    "    k += 1\n",
    "G=T.copy()\n",
    "labels = {}\n",
    "nx.draw_networkx_labels(G,pos=pos,labels={i:i for i in (G)},font_size=13)\n",
    "nx.draw(G,pos=pos, node_color='w')\n",
    "plt.show()"
   ]
  },
  {
   "cell_type": "code",
   "execution_count": 23,
   "metadata": {
    "ExecuteTime": {
     "end_time": "2018-10-25T16:16:09.399063Z",
     "start_time": "2018-10-25T16:16:09.113801Z"
    }
   },
   "outputs": [
    {
     "name": "stderr",
     "output_type": "stream",
     "text": [
      "[Parallel(n_jobs=1)]: Done  42 out of  42 | elapsed:    0.2s finished\n",
      "[Parallel(n_jobs=1)]: Done  18 out of  18 | elapsed:    0.0s finished\n",
      "[Parallel(n_jobs=1)]: Done  24 out of  24 | elapsed:    0.1s finished\n",
      "[Parallel(n_jobs=1)]: Done  18 out of  18 | elapsed:    0.0s finished\n"
     ]
    }
   ],
   "source": [
    "gc = game_clustering.GameClustering(G=G, beta=0.8)\n",
    "gc.fit()"
   ]
  },
  {
   "cell_type": "code",
   "execution_count": 24,
   "metadata": {
    "ExecuteTime": {
     "end_time": "2018-10-25T16:16:09.405057Z",
     "start_time": "2018-10-25T16:16:09.400816Z"
    }
   },
   "outputs": [
    {
     "name": "stdout",
     "output_type": "stream",
     "text": [
      "alpha:  0.0\n",
      "cluster:  [{0, 1, 2, 3, 4, 5, 6, 7, 8, 9, 10, 11, 12, 13, 14, 15, 16, 17, 18, 19, 20, 21, 22, 23, 24, 25, 26, 27, 28, 29, 30, 31, 32, 33, 34, 35, 36, 37, 38, 39, 40, 41}]\n",
      "\n",
      "alpha:  1.8\n",
      "cluster:  [{39}, {37}, {35}, {38}, {15}, {25}, {4}, {26}, {16}, {5}, {3}, {0}, {6}, {40}, {36}, {7, 8, 9, 10, 11, 12, 13, 14, 17, 18, 19, 20, 21, 22, 23, 24, 27, 28, 29, 30, 31, 32, 33, 34}, {1}, {2}, {41}]\n",
      "\n",
      "alpha:  2.15652174\n",
      "cluster:  [{30}, {39}, {20}, {37}, {35}, {38}, {15}, {11}, {25}, {32, 33, 34, 12, 13, 14, 22, 23, 24}, {4}, {21}, {26}, {16}, {5}, {10}, {3}, {0}, {7, 8, 9, 17, 18, 19, 27, 28, 29}, {6}, {40}, {36}, {1}, {31}, {2}, {41}]\n",
      "\n",
      "alpha:  2.2\n",
      "cluster:  [{38}, {25}, {21}, {26}, {19}, {16}, {33}, {22}, {9}, {7}, {5}, {10}, {3}, {0}, {28}, {29}, {2}, {41}, {30}, {39}, {20}, {37}, {35}, {32}, {15}, {13}, {11}, {8}, {14}, {23}, {4}, {34}, {17}, {6}, {18}, {40}, {36}, {1}, {31}, {12}, {27}, {24}]\n",
      "\n"
     ]
    }
   ],
   "source": [
    "print_game_solution(gc.solutions)"
   ]
  },
  {
   "cell_type": "code",
   "execution_count": 25,
   "metadata": {
    "ExecuteTime": {
     "end_time": "2018-10-25T16:16:21.206530Z",
     "start_time": "2018-10-25T16:16:21.094236Z"
    }
   },
   "outputs": [
    {
     "name": "stdout",
     "output_type": "stream",
     "text": [
      "for gamma in ( -inf ,  1.0 )\n",
      "[{0, 1, 2, 3, 4, 5, 6, 7, 8, 9, 10, 11, 12, 13, 14, 15, 16, 17, 18, 19, 20, 21, 22, 23, 24, 25, 26, 27, 28, 29, 30, 31, 32, 33, 34, 35, 36, 37, 38, 39, 40, 41}]\n",
      "\n",
      "for gamma in [ 1.0 ,  1.2857142857142858 )\n",
      "[{39}, {37}, {35}, {38}, {15}, {25}, {4}, {26}, {16}, {5}, {3}, {0}, {6}, {40}, {36}, {7, 8, 9, 10, 11, 12, 13, 14, 17, 18, 19, 20, 21, 22, 23, 24, 27, 28, 29, 30, 31, 32, 33, 34}, {1}, {2}, {41}]\n",
      "\n",
      "for gamma in [ 1.2857142857142858 ,  1.5 )\n",
      "[{30}, {39}, {20}, {37}, {35}, {38}, {15}, {11}, {25}, {32, 33, 34, 12, 13, 14, 22, 23, 24}, {4}, {21}, {26}, {16}, {5}, {10}, {3}, {0}, {7, 8, 9, 17, 18, 19, 27, 28, 29}, {6}, {40}, {36}, {1}, {31}, {2}, {41}]\n",
      "\n",
      "for gamma in [ 1.5 ,  inf )\n",
      "[{38}, {25}, {21}, {26}, {19}, {16}, {33}, {22}, {9}, {7}, {5}, {10}, {3}, {0}, {28}, {29}, {2}, {41}, {30}, {39}, {20}, {37}, {35}, {32}, {15}, {13}, {11}, {8}, {14}, {23}, {4}, {34}, {17}, {6}, {18}, {40}, {36}, {1}, {31}, {12}, {27}, {24}]\n",
      "\n"
     ]
    }
   ],
   "source": [
    "# for info-clustering\n",
    "IC = infoclustering.InfoClustering(G=G)\n",
    "IC.fit()\n",
    "print_info_solution(IC.solutions)"
   ]
  },
  {
   "cell_type": "code",
   "execution_count": null,
   "metadata": {
    "collapsed": true
   },
   "outputs": [],
   "source": []
  },
  {
   "cell_type": "code",
   "execution_count": null,
   "metadata": {
    "collapsed": true
   },
   "outputs": [],
   "source": []
  },
  {
   "cell_type": "code",
   "execution_count": null,
   "metadata": {
    "collapsed": true
   },
   "outputs": [],
   "source": []
  }
 ],
 "metadata": {
  "kernelspec": {
   "display_name": "Python [default]",
   "language": "python",
   "name": "python3"
  },
  "language_info": {
   "codemirror_mode": {
    "name": "ipython",
    "version": 3
   },
   "file_extension": ".py",
   "mimetype": "text/x-python",
   "name": "python",
   "nbconvert_exporter": "python",
   "pygments_lexer": "ipython3",
   "version": "3.5.4"
  },
  "toc": {
   "nav_menu": {},
   "number_sections": true,
   "sideBar": true,
   "skip_h1_title": false,
   "title_cell": "Table of Contents",
   "title_sidebar": "Contents",
   "toc_cell": false,
   "toc_position": {},
   "toc_section_display": true,
   "toc_window_display": false
  }
 },
 "nbformat": 4,
 "nbformat_minor": 2
}
